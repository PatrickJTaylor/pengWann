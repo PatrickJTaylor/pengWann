{
 "cells": [
  {
   "cell_type": "markdown",
   "id": "7b26ceb8-0ff1-4466-bfc6-540394e08962",
   "metadata": {},
   "source": [
    "# Calculating bonding descriptors in diamond"
   ]
  },
  {
   "cell_type": "markdown",
   "id": "ce46b099-837e-4239-ade7-10edb0405ccb",
   "metadata": {
    "editable": true,
    "slideshow": {
     "slide_type": ""
    },
    "tags": []
   },
   "source": [
    "![The structure of diamond with a single Wannier function plotted](images/structure.png)\n",
    "\n",
    "This notebook demonstrates how `pengwann` can be used to compute bonding descriptors in a simple example system: diamond. More specifically, we will derive the Wannier orbital Hamilton population (WOHP) and Wannier orbital bond index (WOBI) for the C-C bond and integrate these quantities to (roughly speaking) measure the bond strength and bond order."
   ]
  },
  {
   "cell_type": "markdown",
   "id": "64cd72d6-2c92-418a-88b6-5abe49dfe6ff",
   "metadata": {},
   "source": [
    "## Identifying interatomic interactions"
   ]
  },
  {
   "cell_type": "markdown",
   "id": "46254eae-294d-49c2-aecb-1ded238770be",
   "metadata": {},
   "source": [
    "Within `pengwann`, the interaction between atom A and atom B is the sum total of all interactions between the Wannier functions associated with atom A and the Wannier functions associated with atom B. In order to compute the WOHP or WOBI for the C-C bond in diamond, we must therefore first figure out which Wannier centres should be assigned to each carbon atom."
   ]
  },
  {
   "cell_type": "code",
   "execution_count": 1,
   "id": "c6a08f13-011c-4604-8731-4088207266a7",
   "metadata": {},
   "outputs": [
    {
     "name": "stdout",
     "output_type": "stream",
     "text": [
      "Full Formula (X8 C2)\n",
      "Reduced Formula: X4C\n",
      "abc   :   2.517827   2.517827   2.517827\n",
      "angles:  60.000000  60.000000  60.000000\n",
      "pbc   :       True       True       True\n",
      "Sites (10)\n",
      "  #  SP            a          b          c  wannier_centres\n",
      "---  ----  ---------  ---------  ---------  -----------------\n",
      "  0  X0+    0.264244   0.578584  -0.421414  (8,)\n",
      "  1  X0+    0.171416   0.485756   0.171415  (9,)\n",
      "  2  X0+   -0.421414   0.264244   0.578584  (8,)\n",
      "  3  X0+    0.485756   0.171414   0.171414  (9,)\n",
      "  4  X0+    0.171415   0.171415   0.485756  (9,)\n",
      "  5  X0+   -0.421415  -0.421415  -0.421414  (8,)\n",
      "  6  X0+    0.578584  -0.421413   0.264244  (8,)\n",
      "  7  X0+    0.171413   0.171416   0.171415  (9,)\n",
      "  8  C      0.5        0.5        0.5       (0, 2, 5, 6)\n",
      "  9  C      0.25       0.25       0.25      (1, 3, 4, 7)\n"
     ]
    }
   ],
   "source": [
    "from pengwann.geometry import build_geometry\n",
    "\n",
    "geometry = build_geometry(seedname='wannier90', path='inputs')\n",
    "print(geometry)"
   ]
  },
  {
   "cell_type": "markdown",
   "id": "cf65a1cb-d203-4c6f-b4d8-7e574108b814",
   "metadata": {},
   "source": [
    "Above, we have used the `build_geometry` function, which parses the Wannier90 seedname_centres.xyz and seedname.win files to extract the coordinates of atoms and Wannier centres as well as the cell vectors. A `pymatgen` `Structure` object is returned, which encapsulates the geometry of the system including periodic boundary conditions.\n",
    "\n",
    "As well as providing a Python-compatible representation of the system's structure, the `build_geometry` function also assigns each Wannier centre to its closest atom. This is represented in the output above by the far righthand column labelled `wannier_centres`, within which each number is a site index referring to the order of atoms and Wannier centres within the `Structure` object. For example, looking at site #9 (the final site of the `Structure`), we see that its `wannier_centres` are `(1, 3, 4, 7)`, meaning that the Wannier centres at sites #1, #3, #4 and #7 have been assigned to/associated with this carbon atom. This assignment also goes both ways, in the sense that each Wannier centre (`X0+`) is associated with a single atom: looking at site #0, its `wannier_centres` are `(8,)`, meaning that this Wannier centre has been assigned to the carbon atom at site #8.\n",
    "\n",
    "Note that the seedname_centres.xyz file read by `build_geometry` should always be generated in Wannier90 with `translate_home_cell = false`, If a seedname_centres.xyz file generated with `translate_home_cell = true` is used, then the Wannier centre assignments made by `build_geometry` will still be correct, but the interatomic interactions identified in subsequent steps **may not be accurate**.\n",
    "\n",
    "Now that we have the geometry of the system and its Wannier centres available to us, we can identify interatomic interactions according to a radial distance cutoff:"
   ]
  },
  {
   "cell_type": "code",
   "execution_count": 2,
   "id": "d85819ae-f9db-4156-bb4d-3be40a6b4237",
   "metadata": {},
   "outputs": [
    {
     "name": "stdout",
     "output_type": "stream",
     "text": [
      "Atomic interactions\n",
      "===================\n",
      "C8 <=> C9\n",
      "\n"
     ]
    }
   ],
   "source": [
    "from pengwann.geometry import identify_interatomic_interactions\n",
    "\n",
    "# Find all C-C bonds that are < 1.6 Å.\n",
    "cutoffs = {('C', 'C') : 1.6}\n",
    "\n",
    "interactions = identify_interatomic_interactions(geometry, cutoffs)\n",
    "print(interactions)"
   ]
  },
  {
   "cell_type": "markdown",
   "id": "bdca98c6-9911-4295-a87b-a9738a821f9a",
   "metadata": {},
   "source": [
    "Sure enough, because we are here using the primitive cell of diamond (which contains only 2 carbon atoms), we find only a single C-C interaction between sites #8 and #9 (with reference to the `Structure` object generated prior). The object returned by `identify_interatomic_interactions` is an `AtomicInteractionContainer`, which is a simple data structure that accommodates a series of individual `AtomicInteraction` objects:"
   ]
  },
  {
   "cell_type": "code",
   "execution_count": 3,
   "id": "abb78c44-7c33-439b-a439-e7315f9fd57b",
   "metadata": {},
   "outputs": [
    {
     "name": "stdout",
     "output_type": "stream",
     "text": [
      "Atomic interaction C8 <=> C9\n",
      "============================\n",
      "DOS matrix => Not calculated\n",
      "WOHP => Not calculated\n",
      "WOBI => Not calculated\n",
      "IWOHP => Not calculated\n",
      "IWOBI => Not calculated\n",
      "Population => Not calculated\n",
      "Charge => Not calculated\n",
      "\n",
      "\n",
      "Associated Wannier interactions\n",
      "-------------------------------\n",
      "0[0, 0, 1] <=> 1[0, 0, 0]\n",
      "0[0, 0, 1] <=> 3[0, 0, 0]\n",
      "0[0, 0, 1] <=> 4[0, 0, 0]\n",
      "0[0, 0, 1] <=> 7[0, 0, 0]\n",
      "2[1, 0, 0] <=> 1[0, 0, 0]\n",
      "2[1, 0, 0] <=> 3[0, 0, 0]\n",
      "2[1, 0, 0] <=> 4[0, 0, 0]\n",
      "2[1, 0, 0] <=> 7[0, 0, 0]\n",
      "5[1, 1, 1] <=> 1[0, 0, 0]\n",
      "5[1, 1, 1] <=> 3[0, 0, 0]\n",
      "5[1, 1, 1] <=> 4[0, 0, 0]\n",
      "5[1, 1, 1] <=> 7[0, 0, 0]\n",
      "6[0, 1, 0] <=> 1[0, 0, 0]\n",
      "6[0, 1, 0] <=> 3[0, 0, 0]\n",
      "6[0, 1, 0] <=> 4[0, 0, 0]\n",
      "6[0, 1, 0] <=> 7[0, 0, 0]\n",
      "\n"
     ]
    }
   ],
   "source": [
    "for interaction in interactions:\n",
    "    print(interaction)"
   ]
  },
  {
   "cell_type": "markdown",
   "id": "67d11b4f-3d69-4028-8c8b-7667b999a083",
   "metadata": {},
   "source": [
    "Here we can see that the interaction between `C8` and `C9` is internally represented by the interactions between their respective Wannier functions. The notation used to refer to each Wannier function can be understood as $\\ket{w_{iR}} =$ `i[R_1, R_2, R_3]`, where `i` is a band-like index and `R_1`, `R_2` and `R_3` are the components of a Bravais lattice vector.\n",
    "\n",
    "Just as an `AtomicInteractionContainer` can be iterated to access each individual `AtomicInteraction` object, each `AtomicInteraction` object can itself be iterated to yield individual `WannierInteraction` objects:"
   ]
  },
  {
   "cell_type": "code",
   "execution_count": 4,
   "id": "637a03d5-0053-4dee-8aaf-6ca70068a772",
   "metadata": {},
   "outputs": [
    {
     "name": "stdout",
     "output_type": "stream",
     "text": [
      "Wannier interaction 0[0, 0, 1] <=> 1[0, 0, 0]\n",
      "=============================================\n",
      "DOS matrix => Not calculated\n",
      "H_ij => Not calculated\n",
      "P_ij => Not calculated\n",
      "IWOHP => Not calculated\n",
      "IWOBI => Not calculated\n",
      "Population => Not calculated\n",
      "\n",
      "Wannier interaction 0[0, 0, 1] <=> 3[0, 0, 0]\n",
      "=============================================\n",
      "DOS matrix => Not calculated\n",
      "H_ij => Not calculated\n",
      "P_ij => Not calculated\n",
      "IWOHP => Not calculated\n",
      "IWOBI => Not calculated\n",
      "Population => Not calculated\n",
      "\n",
      "Wannier interaction 0[0, 0, 1] <=> 4[0, 0, 0]\n",
      "=============================================\n",
      "DOS matrix => Not calculated\n",
      "H_ij => Not calculated\n",
      "P_ij => Not calculated\n",
      "IWOHP => Not calculated\n",
      "IWOBI => Not calculated\n",
      "Population => Not calculated\n",
      "\n",
      "Wannier interaction 0[0, 0, 1] <=> 7[0, 0, 0]\n",
      "=============================================\n",
      "DOS matrix => Not calculated\n",
      "H_ij => Not calculated\n",
      "P_ij => Not calculated\n",
      "IWOHP => Not calculated\n",
      "IWOBI => Not calculated\n",
      "Population => Not calculated\n",
      "\n",
      "Wannier interaction 2[1, 0, 0] <=> 1[0, 0, 0]\n",
      "=============================================\n",
      "DOS matrix => Not calculated\n",
      "H_ij => Not calculated\n",
      "P_ij => Not calculated\n",
      "IWOHP => Not calculated\n",
      "IWOBI => Not calculated\n",
      "Population => Not calculated\n",
      "\n",
      "Wannier interaction 2[1, 0, 0] <=> 3[0, 0, 0]\n",
      "=============================================\n",
      "DOS matrix => Not calculated\n",
      "H_ij => Not calculated\n",
      "P_ij => Not calculated\n",
      "IWOHP => Not calculated\n",
      "IWOBI => Not calculated\n",
      "Population => Not calculated\n",
      "\n",
      "Wannier interaction 2[1, 0, 0] <=> 4[0, 0, 0]\n",
      "=============================================\n",
      "DOS matrix => Not calculated\n",
      "H_ij => Not calculated\n",
      "P_ij => Not calculated\n",
      "IWOHP => Not calculated\n",
      "IWOBI => Not calculated\n",
      "Population => Not calculated\n",
      "\n",
      "Wannier interaction 2[1, 0, 0] <=> 7[0, 0, 0]\n",
      "=============================================\n",
      "DOS matrix => Not calculated\n",
      "H_ij => Not calculated\n",
      "P_ij => Not calculated\n",
      "IWOHP => Not calculated\n",
      "IWOBI => Not calculated\n",
      "Population => Not calculated\n",
      "\n",
      "Wannier interaction 5[1, 1, 1] <=> 1[0, 0, 0]\n",
      "=============================================\n",
      "DOS matrix => Not calculated\n",
      "H_ij => Not calculated\n",
      "P_ij => Not calculated\n",
      "IWOHP => Not calculated\n",
      "IWOBI => Not calculated\n",
      "Population => Not calculated\n",
      "\n",
      "Wannier interaction 5[1, 1, 1] <=> 3[0, 0, 0]\n",
      "=============================================\n",
      "DOS matrix => Not calculated\n",
      "H_ij => Not calculated\n",
      "P_ij => Not calculated\n",
      "IWOHP => Not calculated\n",
      "IWOBI => Not calculated\n",
      "Population => Not calculated\n",
      "\n",
      "Wannier interaction 5[1, 1, 1] <=> 4[0, 0, 0]\n",
      "=============================================\n",
      "DOS matrix => Not calculated\n",
      "H_ij => Not calculated\n",
      "P_ij => Not calculated\n",
      "IWOHP => Not calculated\n",
      "IWOBI => Not calculated\n",
      "Population => Not calculated\n",
      "\n",
      "Wannier interaction 5[1, 1, 1] <=> 7[0, 0, 0]\n",
      "=============================================\n",
      "DOS matrix => Not calculated\n",
      "H_ij => Not calculated\n",
      "P_ij => Not calculated\n",
      "IWOHP => Not calculated\n",
      "IWOBI => Not calculated\n",
      "Population => Not calculated\n",
      "\n",
      "Wannier interaction 6[0, 1, 0] <=> 1[0, 0, 0]\n",
      "=============================================\n",
      "DOS matrix => Not calculated\n",
      "H_ij => Not calculated\n",
      "P_ij => Not calculated\n",
      "IWOHP => Not calculated\n",
      "IWOBI => Not calculated\n",
      "Population => Not calculated\n",
      "\n",
      "Wannier interaction 6[0, 1, 0] <=> 3[0, 0, 0]\n",
      "=============================================\n",
      "DOS matrix => Not calculated\n",
      "H_ij => Not calculated\n",
      "P_ij => Not calculated\n",
      "IWOHP => Not calculated\n",
      "IWOBI => Not calculated\n",
      "Population => Not calculated\n",
      "\n",
      "Wannier interaction 6[0, 1, 0] <=> 4[0, 0, 0]\n",
      "=============================================\n",
      "DOS matrix => Not calculated\n",
      "H_ij => Not calculated\n",
      "P_ij => Not calculated\n",
      "IWOHP => Not calculated\n",
      "IWOBI => Not calculated\n",
      "Population => Not calculated\n",
      "\n",
      "Wannier interaction 6[0, 1, 0] <=> 7[0, 0, 0]\n",
      "=============================================\n",
      "DOS matrix => Not calculated\n",
      "H_ij => Not calculated\n",
      "P_ij => Not calculated\n",
      "IWOHP => Not calculated\n",
      "IWOBI => Not calculated\n",
      "Population => Not calculated\n",
      "\n"
     ]
    }
   ],
   "source": [
    "for interaction in interactions:\n",
    "    for w_interaction in interaction:\n",
    "        print(w_interaction)"
   ]
  },
  {
   "cell_type": "markdown",
   "id": "8b32a23c-0f10-407b-b55a-96e7d62d9e92",
   "metadata": {},
   "source": [
    "### Accessing specific interactions"
   ]
  },
  {
   "cell_type": "markdown",
   "id": "6485c302-d74d-45d0-80fc-5a4a76e4a334",
   "metadata": {},
   "source": [
    "As well as iterating over all `AtomicInteraction` objects associated with an `AtomicInteractionContainer`, or all of the `WannierInteraction` objects associated with an `AtomicInteraction`, one can also access specific interactions directly via numpy-style indexing with reference to the site indices in the previously generated `Structure` object:"
   ]
  },
  {
   "cell_type": "code",
   "execution_count": 5,
   "id": "a4c87676-dd0e-45c5-9a65-0952a3c7555c",
   "metadata": {},
   "outputs": [
    {
     "name": "stdout",
     "output_type": "stream",
     "text": [
      "Atomic interaction C8 <=> C9\n",
      "============================\n",
      "DOS matrix => Not calculated\n",
      "WOHP => Not calculated\n",
      "WOBI => Not calculated\n",
      "IWOHP => Not calculated\n",
      "IWOBI => Not calculated\n",
      "Population => Not calculated\n",
      "Charge => Not calculated\n",
      "\n",
      "\n",
      "Associated Wannier interactions\n",
      "-------------------------------\n",
      "0[0, 0, 1] <=> 1[0, 0, 0]\n",
      "0[0, 0, 1] <=> 3[0, 0, 0]\n",
      "0[0, 0, 1] <=> 4[0, 0, 0]\n",
      "0[0, 0, 1] <=> 7[0, 0, 0]\n",
      "2[1, 0, 0] <=> 1[0, 0, 0]\n",
      "2[1, 0, 0] <=> 3[0, 0, 0]\n",
      "2[1, 0, 0] <=> 4[0, 0, 0]\n",
      "2[1, 0, 0] <=> 7[0, 0, 0]\n",
      "5[1, 1, 1] <=> 1[0, 0, 0]\n",
      "5[1, 1, 1] <=> 3[0, 0, 0]\n",
      "5[1, 1, 1] <=> 4[0, 0, 0]\n",
      "5[1, 1, 1] <=> 7[0, 0, 0]\n",
      "6[0, 1, 0] <=> 1[0, 0, 0]\n",
      "6[0, 1, 0] <=> 3[0, 0, 0]\n",
      "6[0, 1, 0] <=> 4[0, 0, 0]\n",
      "6[0, 1, 0] <=> 7[0, 0, 0]\n",
      "\n"
     ]
    }
   ],
   "source": [
    "print(interactions[8, 9])"
   ]
  },
  {
   "cell_type": "markdown",
   "id": "627c67e3-7f49-4463-ae0c-607e36071d62",
   "metadata": {},
   "source": [
    "Here we have used indices `[8, 9]` to access the interaction between `C8` and `C9`. We can be even more specific and access a particular `WannierInteraction` associated with the overall `AtomicInteraction`:"
   ]
  },
  {
   "cell_type": "code",
   "execution_count": 6,
   "id": "755d2311-90f8-48c0-a081-db970b564632",
   "metadata": {},
   "outputs": [
    {
     "name": "stdout",
     "output_type": "stream",
     "text": [
      "Wannier interaction 0[0, 0, 1] <=> 1[0, 0, 0]\n",
      "=============================================\n",
      "DOS matrix => Not calculated\n",
      "H_ij => Not calculated\n",
      "P_ij => Not calculated\n",
      "IWOHP => Not calculated\n",
      "IWOBI => Not calculated\n",
      "Population => Not calculated\n",
      "\n"
     ]
    }
   ],
   "source": [
    "print(interactions[8, 9][0, 1])"
   ]
  },
  {
   "cell_type": "markdown",
   "id": "8ab2e627-1760-4a68-9509-f87edf6e3e0b",
   "metadata": {},
   "source": [
    "Note that the order of indices does not matter, we could rewrite the above as:"
   ]
  },
  {
   "cell_type": "code",
   "execution_count": 7,
   "id": "ab44de42-da6c-4fd0-b844-fbcdfdcd6214",
   "metadata": {},
   "outputs": [
    {
     "name": "stdout",
     "output_type": "stream",
     "text": [
      "Wannier interaction 0[0, 0, 1] <=> 1[0, 0, 0]\n",
      "=============================================\n",
      "DOS matrix => Not calculated\n",
      "H_ij => Not calculated\n",
      "P_ij => Not calculated\n",
      "IWOHP => Not calculated\n",
      "IWOBI => Not calculated\n",
      "Population => Not calculated\n",
      "\n"
     ]
    }
   ],
   "source": [
    "print(interactions[9, 8][1, 0])"
   ]
  },
  {
   "cell_type": "markdown",
   "id": "38e465e2-3cd3-416f-aefb-0afc97fee15f",
   "metadata": {},
   "source": [
    "Finally, rather than specifying a specific `AtomicInteraction` or `WannierInteraction` by providing 2 indices, we can also use a single index to retrieve all interactions involving a particular atom or Wannier function. For example, to access all `WannierInteractions` between the Wannier function at site #0 and any other Wannier function:"
   ]
  },
  {
   "cell_type": "code",
   "execution_count": 8,
   "id": "ddc8383c-1632-4158-a03e-77589fb1c934",
   "metadata": {},
   "outputs": [
    {
     "name": "stdout",
     "output_type": "stream",
     "text": [
      "Wannier interaction 0[0, 0, 1] <=> 1[0, 0, 0]\n",
      "=============================================\n",
      "DOS matrix => Not calculated\n",
      "H_ij => Not calculated\n",
      "P_ij => Not calculated\n",
      "IWOHP => Not calculated\n",
      "IWOBI => Not calculated\n",
      "Population => Not calculated\n",
      "\n",
      "Wannier interaction 0[0, 0, 1] <=> 3[0, 0, 0]\n",
      "=============================================\n",
      "DOS matrix => Not calculated\n",
      "H_ij => Not calculated\n",
      "P_ij => Not calculated\n",
      "IWOHP => Not calculated\n",
      "IWOBI => Not calculated\n",
      "Population => Not calculated\n",
      "\n",
      "Wannier interaction 0[0, 0, 1] <=> 4[0, 0, 0]\n",
      "=============================================\n",
      "DOS matrix => Not calculated\n",
      "H_ij => Not calculated\n",
      "P_ij => Not calculated\n",
      "IWOHP => Not calculated\n",
      "IWOBI => Not calculated\n",
      "Population => Not calculated\n",
      "\n",
      "Wannier interaction 0[0, 0, 1] <=> 7[0, 0, 0]\n",
      "=============================================\n",
      "DOS matrix => Not calculated\n",
      "H_ij => Not calculated\n",
      "P_ij => Not calculated\n",
      "IWOHP => Not calculated\n",
      "IWOBI => Not calculated\n",
      "Population => Not calculated\n",
      "\n"
     ]
    }
   ],
   "source": [
    "for w_interaction in interactions[8, 9][0]:\n",
    "    print(w_interaction)"
   ]
  },
  {
   "cell_type": "markdown",
   "id": "7e4678ad-4d63-4bf0-a9b6-c3fc73fde606",
   "metadata": {},
   "source": [
    "## Calculating the WOHP and the WOBI"
   ]
  },
  {
   "cell_type": "markdown",
   "id": "72f77676-9e4b-4d8b-a32f-ee59bde6b0c9",
   "metadata": {},
   "source": [
    "To actually calculate the WOHP and the WOBI for the C-C bond, we will need to parse a few more Wannier90 input and output files. This can be easily accomplished with the `read` function, which parses the Wannier90 seedname.eig, seedname_u.mat and seedname_hr.dat files to yield the k-point mesh, the Kohn-Sham eigenvalues, the unitary matrices that define the Wannier functions and the Wannier Hamiltonian:"
   ]
  },
  {
   "cell_type": "code",
   "execution_count": 9,
   "id": "7161936c-852e-439f-8ff9-8e0f361f1cf2",
   "metadata": {},
   "outputs": [],
   "source": [
    "from pengwann.io import read\n",
    "\n",
    "kpoints, eigenvalues, u_matrices, hamiltonian = read(seedname='wannier90',\n",
    "                                                     path='inputs')"
   ]
  },
  {
   "cell_type": "markdown",
   "id": "fe1ecfef-909d-472c-b844-501182f95ff9",
   "metadata": {},
   "source": [
    "If we only wanted to calculate the WOHP, we would now have all the data required to proceed, but in the case of the WOBI, we are also in need of the ab initio occupation matrix (required to compute elements of the Wannier density matrix). Ideally, the occupation matrix should be read directly from the output of the ab intio code, in our case from VASP. Due to the fact that different ab initio codes output the occupation matrix in different formats, `pengwann` does not provide a generic IO function for this purpose. We recommend in general that users look towards other larger and more general-use Python packages such as `pymatgen` or `ase` for this functionality, and use these to read the occupation matrix from their ab initio calculations.\n",
    "\n",
    "If for whatever reason the occupation matrix cannot be read directly from the ab intio code, then the `get_occupation_matrix` function can be used to reconstruct it from the Kohn-Sham eigenvalues:"
   ]
  },
  {
   "cell_type": "code",
   "execution_count": 10,
   "id": "66566acf-ef36-4794-b255-17a3853ecdbd",
   "metadata": {},
   "outputs": [],
   "source": [
    "from pengwann.occupations import get_occupation_matrix\n",
    "\n",
    "mu = 9.9185 # The Fermi level\n",
    "nspin = 2 # The number of electrons per fully-occupied state.\n",
    "\n",
    "occupation_matrix = get_occupation_matrix(eigenvalues, mu, nspin)"
   ]
  },
  {
   "cell_type": "markdown",
   "id": "96a238ec-04c2-4c37-8984-5ba21fb0d371",
   "metadata": {},
   "source": [
    "By default, the `get_occupation_matrix` function uses a heaviside function to build the occupation matrix: occupation numbers are 1 below the Fermi level and 0 above it (with a sharp cutoff). In the case of diamond, an insulator, this is perfectly appropriate, but for systems in which thermal smearing has been applied during the ab initio calculation it may be desirable to apply a different occupation function. The `get_occupation_matrix` function has an optional `occupation_function` keyword argument that can be used to apply any arbitary occupation function.\n",
    "\n",
    "The actual calculation of bonding descriptors is accomplished in `pengwann` via the `DescriptorCalculator` class. To initialise this class, we need to specify a few more parameters:"
   ]
  },
  {
   "cell_type": "code",
   "execution_count": 11,
   "id": "ae011652-3b08-4621-92e7-d88e9887a201",
   "metadata": {},
   "outputs": [],
   "source": [
    "num_wann = 8\n",
    "energy_range = (-15, 25)\n",
    "resolution = 0.1\n",
    "sigma = 0.2 # Smearing width for the DOS"
   ]
  },
  {
   "cell_type": "markdown",
   "id": "99d70964-c105-4de7-992b-edb12f445680",
   "metadata": {},
   "source": [
    "Note that the `energy_range`, `resolution` and `sigma` variables all refer to the manner in which the density of states is to be evaluated: from `energy_range[0]` to `energy_range[1]` in steps of `resolution`, smeared by a Gaussian of width `sigma`."
   ]
  },
  {
   "cell_type": "code",
   "execution_count": 12,
   "id": "ad2acff8-7b69-4f42-8e5f-d43f95bad3f5",
   "metadata": {},
   "outputs": [],
   "source": [
    "from pengwann.descriptors import DescriptorCalculator\n",
    "\n",
    "dcalc = DescriptorCalculator.from_eigenvalues(eigenvalues,\n",
    "                                              num_wann, \n",
    "                                              nspin, \n",
    "                                              energy_range, \n",
    "                                              resolution, \n",
    "                                              sigma, \n",
    "                                              kpoints, \n",
    "                                              u_matrices, \n",
    "                                              hamiltonian,\n",
    "                                              occupation_matrix)"
   ]
  },
  {
   "cell_type": "markdown",
   "id": "a6ef8b8c-73b4-466a-a8d5-5eb6a8ade133",
   "metadata": {},
   "source": [
    "Having initialised a `DescriptorCalculator`, actually calculating the WOHP and the WOBI is very straightforward:"
   ]
  },
  {
   "cell_type": "code",
   "execution_count": 13,
   "id": "b1193fa6-ab72-4bdf-86e7-b13ba4724f97",
   "metadata": {},
   "outputs": [
    {
     "data": {
      "application/vnd.jupyter.widget-view+json": {
       "model_id": "99e3c2f628a347c6bc9d157dad563ee2",
       "version_major": 2,
       "version_minor": 0
      },
      "text/plain": [
       "  0%|          | 0/16 [00:00<?, ?it/s]"
      ]
     },
     "metadata": {},
     "output_type": "display_data"
    }
   ],
   "source": [
    "interactions = dcalc.assign_descriptors(interactions)"
   ]
  },
  {
   "cell_type": "markdown",
   "id": "d2916c9e-afa7-47d1-b17f-6b5aeb697e6f",
   "metadata": {},
   "source": [
    "Note that the `assign_descriptors` method returns a new instance of the input `interactions` rather than updating it in-place - this is true of the vast majority of methods and functions in `pengwann`."
   ]
  },
  {
   "cell_type": "code",
   "execution_count": 14,
   "id": "b5daeb19-a24c-4b8f-9e8e-c730e0baac0a",
   "metadata": {},
   "outputs": [
    {
     "name": "stdout",
     "output_type": "stream",
     "text": [
      "Atomic interaction C8 <=> C9\n",
      "============================\n",
      "DOS matrix => Calculated\n",
      "WOHP => Calculated\n",
      "WOBI => Calculated\n",
      "IWOHP => Not calculated\n",
      "IWOBI => Not calculated\n",
      "Population => Not calculated\n",
      "Charge => Not calculated\n",
      "\n",
      "\n",
      "Associated Wannier interactions\n",
      "-------------------------------\n",
      "0[0, 0, 1] <=> 1[0, 0, 0]\n",
      "0[0, 0, 1] <=> 3[0, 0, 0]\n",
      "0[0, 0, 1] <=> 4[0, 0, 0]\n",
      "0[0, 0, 1] <=> 7[0, 0, 0]\n",
      "2[1, 0, 0] <=> 1[0, 0, 0]\n",
      "2[1, 0, 0] <=> 3[0, 0, 0]\n",
      "2[1, 0, 0] <=> 4[0, 0, 0]\n",
      "2[1, 0, 0] <=> 7[0, 0, 0]\n",
      "5[1, 1, 1] <=> 1[0, 0, 0]\n",
      "5[1, 1, 1] <=> 3[0, 0, 0]\n",
      "5[1, 1, 1] <=> 4[0, 0, 0]\n",
      "5[1, 1, 1] <=> 7[0, 0, 0]\n",
      "6[0, 1, 0] <=> 1[0, 0, 0]\n",
      "6[0, 1, 0] <=> 3[0, 0, 0]\n",
      "6[0, 1, 0] <=> 4[0, 0, 0]\n",
      "6[0, 1, 0] <=> 7[0, 0, 0]\n",
      "\n"
     ]
    }
   ],
   "source": [
    "for interaction in interactions:\n",
    "    print(interaction)"
   ]
  },
  {
   "cell_type": "markdown",
   "id": "c88e0189-cbb3-4964-a001-f698db982c7e",
   "metadata": {},
   "source": [
    "As seen above, the DOS matrix, WOHP and WOBI are now reported as `Calculated`. Similarly, if we dig into the individual `WannierInteraction` objects, we find that these too have been updated:"
   ]
  },
  {
   "cell_type": "code",
   "execution_count": 15,
   "id": "37be91a7-1af1-4a43-8dad-a477af0593c0",
   "metadata": {},
   "outputs": [
    {
     "name": "stdout",
     "output_type": "stream",
     "text": [
      "Wannier interaction 0[0, 0, 1] <=> 1[0, 0, 0]\n",
      "=============================================\n",
      "DOS matrix => Calculated\n",
      "H_ij => -3.564015\n",
      "P_ij => 0.2635638912672347\n",
      "IWOHP => Not calculated\n",
      "IWOBI => Not calculated\n",
      "Population => Not calculated\n",
      "\n",
      "Wannier interaction 0[0, 0, 1] <=> 3[0, 0, 0]\n",
      "=============================================\n",
      "DOS matrix => Calculated\n",
      "H_ij => -1.373425\n",
      "P_ij => 0.13077167009414717\n",
      "IWOHP => Not calculated\n",
      "IWOBI => Not calculated\n",
      "Population => Not calculated\n",
      "\n",
      "Wannier interaction 0[0, 0, 1] <=> 4[0, 0, 0]\n",
      "=============================================\n",
      "DOS matrix => Calculated\n",
      "H_ij => -3.564021\n",
      "P_ij => 0.26356361768674297\n",
      "IWOHP => Not calculated\n",
      "IWOBI => Not calculated\n",
      "Population => Not calculated\n",
      "\n",
      "Wannier interaction 0[0, 0, 1] <=> 7[0, 0, 0]\n",
      "=============================================\n",
      "DOS matrix => Calculated\n",
      "H_ij => 1.764448\n",
      "P_ij => -0.23212541971650075\n",
      "IWOHP => Not calculated\n",
      "IWOBI => Not calculated\n",
      "Population => Not calculated\n",
      "\n",
      "Wannier interaction 2[1, 0, 0] <=> 1[0, 0, 0]\n",
      "=============================================\n",
      "DOS matrix => Calculated\n",
      "H_ij => -1.373513\n",
      "P_ij => 0.13077987161014826\n",
      "IWOHP => Not calculated\n",
      "IWOBI => Not calculated\n",
      "Population => Not calculated\n",
      "\n",
      "Wannier interaction 2[1, 0, 0] <=> 3[0, 0, 0]\n",
      "=============================================\n",
      "DOS matrix => Calculated\n",
      "H_ij => -3.564012\n",
      "P_ij => 0.26356206187813186\n",
      "IWOHP => Not calculated\n",
      "IWOBI => Not calculated\n",
      "Population => Not calculated\n",
      "\n",
      "Wannier interaction 2[1, 0, 0] <=> 4[0, 0, 0]\n",
      "=============================================\n",
      "DOS matrix => Calculated\n",
      "H_ij => -3.564007\n",
      "P_ij => 0.2635630660591617\n",
      "IWOHP => Not calculated\n",
      "IWOBI => Not calculated\n",
      "Population => Not calculated\n",
      "\n",
      "Wannier interaction 2[1, 0, 0] <=> 7[0, 0, 0]\n",
      "=============================================\n",
      "DOS matrix => Calculated\n",
      "H_ij => 1.76453\n",
      "P_ij => -0.23213150569377278\n",
      "IWOHP => Not calculated\n",
      "IWOBI => Not calculated\n",
      "Population => Not calculated\n",
      "\n",
      "Wannier interaction 5[1, 1, 1] <=> 1[0, 0, 0]\n",
      "=============================================\n",
      "DOS matrix => Calculated\n",
      "H_ij => 1.764392\n",
      "P_ij => -0.23212412191389442\n",
      "IWOHP => Not calculated\n",
      "IWOBI => Not calculated\n",
      "Population => Not calculated\n",
      "\n",
      "Wannier interaction 5[1, 1, 1] <=> 3[0, 0, 0]\n",
      "=============================================\n",
      "DOS matrix => Calculated\n",
      "H_ij => 1.764393\n",
      "P_ij => -0.23212078779345546\n",
      "IWOHP => Not calculated\n",
      "IWOBI => Not calculated\n",
      "Population => Not calculated\n",
      "\n",
      "Wannier interaction 5[1, 1, 1] <=> 4[0, 0, 0]\n",
      "=============================================\n",
      "DOS matrix => Calculated\n",
      "H_ij => 1.764422\n",
      "P_ij => -0.2321250438686613\n",
      "IWOHP => Not calculated\n",
      "IWOBI => Not calculated\n",
      "Population => Not calculated\n",
      "\n",
      "Wannier interaction 5[1, 1, 1] <=> 7[0, 0, 0]\n",
      "=============================================\n",
      "DOS matrix => Calculated\n",
      "H_ij => -1.264548\n",
      "P_ij => 0.23359764094015012\n",
      "IWOHP => Not calculated\n",
      "IWOBI => Not calculated\n",
      "Population => Not calculated\n",
      "\n",
      "Wannier interaction 6[0, 1, 0] <=> 1[0, 0, 0]\n",
      "=============================================\n",
      "DOS matrix => Calculated\n",
      "H_ij => -3.564052\n",
      "P_ij => 0.26356607817218713\n",
      "IWOHP => Not calculated\n",
      "IWOBI => Not calculated\n",
      "Population => Not calculated\n",
      "\n",
      "Wannier interaction 6[0, 1, 0] <=> 3[0, 0, 0]\n",
      "=============================================\n",
      "DOS matrix => Calculated\n",
      "H_ij => -3.563954\n",
      "P_ij => 0.2635575923179157\n",
      "IWOHP => Not calculated\n",
      "IWOBI => Not calculated\n",
      "Population => Not calculated\n",
      "\n",
      "Wannier interaction 6[0, 1, 0] <=> 4[0, 0, 0]\n",
      "=============================================\n",
      "DOS matrix => Calculated\n",
      "H_ij => -1.373466\n",
      "P_ij => 0.13077585904602868\n",
      "IWOHP => Not calculated\n",
      "IWOBI => Not calculated\n",
      "Population => Not calculated\n",
      "\n",
      "Wannier interaction 6[0, 1, 0] <=> 7[0, 0, 0]\n",
      "=============================================\n",
      "DOS matrix => Calculated\n",
      "H_ij => 1.764467\n",
      "P_ij => -0.23212629532616433\n",
      "IWOHP => Not calculated\n",
      "IWOBI => Not calculated\n",
      "Population => Not calculated\n",
      "\n"
     ]
    }
   ],
   "source": [
    "for interaction in interactions:\n",
    "    for w_interaction in interaction:\n",
    "        print(w_interaction)"
   ]
  },
  {
   "cell_type": "markdown",
   "id": "e591a880-5d66-4c85-a798-1abb56bda59e",
   "metadata": {},
   "source": [
    "As shown above, the integrals of the DOS matrix, WOHP and WOBI are not computed automatically when the `assign_descriptors` method is called. To obtain these values, we use the `with_integrals` method:"
   ]
  },
  {
   "cell_type": "code",
   "execution_count": 16,
   "id": "62a2239e-6fd8-4abe-891c-ec142ce4165f",
   "metadata": {},
   "outputs": [
    {
     "name": "stdout",
     "output_type": "stream",
     "text": [
      "Atomic interaction C8 <=> C9\n",
      "============================\n",
      "DOS matrix => Calculated\n",
      "WOHP => Calculated\n",
      "WOBI => Calculated\n",
      "IWOHP => Calculated\n",
      "IWOBI => Calculated\n",
      "Population => Calculated\n",
      "Charge => Not calculated\n",
      "\n",
      "\n",
      "Associated Wannier interactions\n",
      "-------------------------------\n",
      "0[0, 0, 1] <=> 1[0, 0, 0]\n",
      "0[0, 0, 1] <=> 3[0, 0, 0]\n",
      "0[0, 0, 1] <=> 4[0, 0, 0]\n",
      "0[0, 0, 1] <=> 7[0, 0, 0]\n",
      "2[1, 0, 0] <=> 1[0, 0, 0]\n",
      "2[1, 0, 0] <=> 3[0, 0, 0]\n",
      "2[1, 0, 0] <=> 4[0, 0, 0]\n",
      "2[1, 0, 0] <=> 7[0, 0, 0]\n",
      "5[1, 1, 1] <=> 1[0, 0, 0]\n",
      "5[1, 1, 1] <=> 3[0, 0, 0]\n",
      "5[1, 1, 1] <=> 4[0, 0, 0]\n",
      "5[1, 1, 1] <=> 7[0, 0, 0]\n",
      "6[0, 1, 0] <=> 1[0, 0, 0]\n",
      "6[0, 1, 0] <=> 3[0, 0, 0]\n",
      "6[0, 1, 0] <=> 4[0, 0, 0]\n",
      "6[0, 1, 0] <=> 7[0, 0, 0]\n",
      "\n"
     ]
    }
   ],
   "source": [
    "interactions = interactions.with_integrals(dcalc.energies,\n",
    "                                           mu, \n",
    "                                           resolve_orbitals=True)\n",
    "\n",
    "for interaction in interactions:\n",
    "    print(interaction)"
   ]
  },
  {
   "cell_type": "markdown",
   "id": "3e60790d-9aa9-4d1d-ad51-8ede523898ae",
   "metadata": {},
   "source": [
    "Note the use of the `resolve_orbitals` keyword argument, which ensures that the descriptors are integrated not only for the overall interaction between `C8` and `C9`, but also for each individual `WannierInteraction`:"
   ]
  },
  {
   "cell_type": "code",
   "execution_count": 17,
   "id": "88775b79-59f6-4f23-aeb9-50387ab172d4",
   "metadata": {},
   "outputs": [
    {
     "name": "stdout",
     "output_type": "stream",
     "text": [
      "Wannier interaction 0[0, 0, 1] <=> 1[0, 0, 0]\n",
      "=============================================\n",
      "DOS matrix => Calculated\n",
      "H_ij => -3.564015\n",
      "P_ij => 0.2635638912672347\n",
      "IWOHP => Calculated\n",
      "IWOBI => Calculated\n",
      "Population => Calculated\n",
      "\n",
      "Wannier interaction 0[0, 0, 1] <=> 3[0, 0, 0]\n",
      "=============================================\n",
      "DOS matrix => Calculated\n",
      "H_ij => -1.373425\n",
      "P_ij => 0.13077167009414717\n",
      "IWOHP => Calculated\n",
      "IWOBI => Calculated\n",
      "Population => Calculated\n",
      "\n",
      "Wannier interaction 0[0, 0, 1] <=> 4[0, 0, 0]\n",
      "=============================================\n",
      "DOS matrix => Calculated\n",
      "H_ij => -3.564021\n",
      "P_ij => 0.26356361768674297\n",
      "IWOHP => Calculated\n",
      "IWOBI => Calculated\n",
      "Population => Calculated\n",
      "\n",
      "Wannier interaction 0[0, 0, 1] <=> 7[0, 0, 0]\n",
      "=============================================\n",
      "DOS matrix => Calculated\n",
      "H_ij => 1.764448\n",
      "P_ij => -0.23212541971650075\n",
      "IWOHP => Calculated\n",
      "IWOBI => Calculated\n",
      "Population => Calculated\n",
      "\n",
      "Wannier interaction 2[1, 0, 0] <=> 1[0, 0, 0]\n",
      "=============================================\n",
      "DOS matrix => Calculated\n",
      "H_ij => -1.373513\n",
      "P_ij => 0.13077987161014826\n",
      "IWOHP => Calculated\n",
      "IWOBI => Calculated\n",
      "Population => Calculated\n",
      "\n",
      "Wannier interaction 2[1, 0, 0] <=> 3[0, 0, 0]\n",
      "=============================================\n",
      "DOS matrix => Calculated\n",
      "H_ij => -3.564012\n",
      "P_ij => 0.26356206187813186\n",
      "IWOHP => Calculated\n",
      "IWOBI => Calculated\n",
      "Population => Calculated\n",
      "\n",
      "Wannier interaction 2[1, 0, 0] <=> 4[0, 0, 0]\n",
      "=============================================\n",
      "DOS matrix => Calculated\n",
      "H_ij => -3.564007\n",
      "P_ij => 0.2635630660591617\n",
      "IWOHP => Calculated\n",
      "IWOBI => Calculated\n",
      "Population => Calculated\n",
      "\n",
      "Wannier interaction 2[1, 0, 0] <=> 7[0, 0, 0]\n",
      "=============================================\n",
      "DOS matrix => Calculated\n",
      "H_ij => 1.76453\n",
      "P_ij => -0.23213150569377278\n",
      "IWOHP => Calculated\n",
      "IWOBI => Calculated\n",
      "Population => Calculated\n",
      "\n",
      "Wannier interaction 5[1, 1, 1] <=> 1[0, 0, 0]\n",
      "=============================================\n",
      "DOS matrix => Calculated\n",
      "H_ij => 1.764392\n",
      "P_ij => -0.23212412191389442\n",
      "IWOHP => Calculated\n",
      "IWOBI => Calculated\n",
      "Population => Calculated\n",
      "\n",
      "Wannier interaction 5[1, 1, 1] <=> 3[0, 0, 0]\n",
      "=============================================\n",
      "DOS matrix => Calculated\n",
      "H_ij => 1.764393\n",
      "P_ij => -0.23212078779345546\n",
      "IWOHP => Calculated\n",
      "IWOBI => Calculated\n",
      "Population => Calculated\n",
      "\n",
      "Wannier interaction 5[1, 1, 1] <=> 4[0, 0, 0]\n",
      "=============================================\n",
      "DOS matrix => Calculated\n",
      "H_ij => 1.764422\n",
      "P_ij => -0.2321250438686613\n",
      "IWOHP => Calculated\n",
      "IWOBI => Calculated\n",
      "Population => Calculated\n",
      "\n",
      "Wannier interaction 5[1, 1, 1] <=> 7[0, 0, 0]\n",
      "=============================================\n",
      "DOS matrix => Calculated\n",
      "H_ij => -1.264548\n",
      "P_ij => 0.23359764094015012\n",
      "IWOHP => Calculated\n",
      "IWOBI => Calculated\n",
      "Population => Calculated\n",
      "\n",
      "Wannier interaction 6[0, 1, 0] <=> 1[0, 0, 0]\n",
      "=============================================\n",
      "DOS matrix => Calculated\n",
      "H_ij => -3.564052\n",
      "P_ij => 0.26356607817218713\n",
      "IWOHP => Calculated\n",
      "IWOBI => Calculated\n",
      "Population => Calculated\n",
      "\n",
      "Wannier interaction 6[0, 1, 0] <=> 3[0, 0, 0]\n",
      "=============================================\n",
      "DOS matrix => Calculated\n",
      "H_ij => -3.563954\n",
      "P_ij => 0.2635575923179157\n",
      "IWOHP => Calculated\n",
      "IWOBI => Calculated\n",
      "Population => Calculated\n",
      "\n",
      "Wannier interaction 6[0, 1, 0] <=> 4[0, 0, 0]\n",
      "=============================================\n",
      "DOS matrix => Calculated\n",
      "H_ij => -1.373466\n",
      "P_ij => 0.13077585904602868\n",
      "IWOHP => Calculated\n",
      "IWOBI => Calculated\n",
      "Population => Calculated\n",
      "\n",
      "Wannier interaction 6[0, 1, 0] <=> 7[0, 0, 0]\n",
      "=============================================\n",
      "DOS matrix => Calculated\n",
      "H_ij => 1.764467\n",
      "P_ij => -0.23212629532616433\n",
      "IWOHP => Calculated\n",
      "IWOBI => Calculated\n",
      "Population => Calculated\n",
      "\n"
     ]
    }
   ],
   "source": [
    "for interaction in interactions:\n",
    "    for w_interaction in interaction:\n",
    "        print(w_interaction)"
   ]
  },
  {
   "cell_type": "markdown",
   "id": "2484dfb8-af0b-44bf-8330-58a944165822",
   "metadata": {},
   "source": [
    "Now that we have calculated the WOHP/WOBI and their integrated counterparts, we can plot these using `matplotlib`:"
   ]
  },
  {
   "cell_type": "code",
   "execution_count": 18,
   "id": "6441d6f6-e88d-4765-b98c-6f7d9b25c909",
   "metadata": {},
   "outputs": [
    {
     "data": {
      "image/png": "[encoded data removed]",
      "text/plain": [
       "<Figure size 640x480 with 1 Axes>"
      ]
     },
     "metadata": {},
     "output_type": "display_data"
    }
   ],
   "source": [
    "import matplotlib.pyplot as plt\n",
    "\n",
    "shifted_energies = dcalc.energies - mu\n",
    "\n",
    "wohp = interactions[8, 9].wohp\n",
    "iwohp = interactions[8, 9].iwohp\n",
    "\n",
    "fig, ax = plt.subplots()\n",
    "\n",
    "ax.plot(shifted_energies, wohp)\n",
    "ax.fill_between(shifted_energies, wohp, alpha=0.7, where=shifted_energies < 0)\n",
    "ax.axvline(x=0, color='black', ls='--', lw=1)\n",
    "\n",
    "ax.annotate(f'IWOHP = {iwohp:.2f}', (0.25, 0.90), xycoords='axes fraction')\n",
    "\n",
    "ax.set_xlim(-25, 15)\n",
    "ax.set_ylim(-1.2, 1.2)\n",
    "\n",
    "ax.set_xlabel(r'$E - E_{\\mathrm{F}}$ / eV')\n",
    "ax.set_ylabel('WOHP')\n",
    "\n",
    "plt.show()"
   ]
  },
  {
   "cell_type": "code",
   "execution_count": 19,
   "id": "0d9c68d6-5a08-4c5e-bce8-df7b081c3a57",
   "metadata": {},
   "outputs": [
    {
     "data": {
      "image/png": "[encoded data removed]",
      "text/plain": [
       "<Figure size 640x480 with 1 Axes>"
      ]
     },
     "metadata": {},
     "output_type": "display_data"
    }
   ],
   "source": [
    "wobi = interactions[8, 9].wobi\n",
    "iwobi = interactions[8, 9].iwobi\n",
    "\n",
    "fig, ax = plt.subplots()\n",
    "\n",
    "ax.fill_between(shifted_energies, wobi, alpha=0.7, where=shifted_energies < 0)\n",
    "ax.axvline(x=0, color='black', ls='--', lw=1)\n",
    "\n",
    "ax.annotate(f'IWOBI = {iwobi:.2f}', (0.25, 0.90), xycoords='axes fraction')\n",
    "\n",
    "ax.set_xlim(-25, 15)\n",
    "ax.set_ylim(-0.12, 0.12)\n",
    "\n",
    "ax.set_xlabel(r'$E - E_{\\mathrm{F}}$ / eV')\n",
    "ax.set_ylabel('WOBI')\n",
    "\n",
    "plt.show()"
   ]
  },
  {
   "cell_type": "markdown",
   "id": "1e43b65c-05cb-4fb3-8bdd-26717df40b8c",
   "metadata": {},
   "source": [
    "We can just as easily plot the WOHP and WOBI for a specific set of `WannierInteraction` objects:"
   ]
  },
  {
   "cell_type": "code",
   "execution_count": 20,
   "id": "690cb091-28ee-40f3-9be6-aa77867469be",
   "metadata": {},
   "outputs": [
    {
     "name": "stdout",
     "output_type": "stream",
     "text": [
      "0[0, 0, 1] <=> 1[0, 0, 0] IWOHP = 0.94\n",
      "0[0, 0, 1] <=> 3[0, 0, 0] IWOHP = 0.18\n",
      "0[0, 0, 1] <=> 4[0, 0, 0] IWOHP = 0.94\n",
      "0[0, 0, 1] <=> 7[0, 0, 0] IWOHP = 0.41\n"
     ]
    },
    {
     "data": {
      "image/png": "[encoded data removed]",
      "text/plain": [
       "<Figure size 640x480 with 1 Axes>"
      ]
     },
     "metadata": {},
     "output_type": "display_data"
    }
   ],
   "source": [
    "fig, ax = plt.subplots()\n",
    "\n",
    "for w_interaction in interactions[8, 9][0]:\n",
    "    ax.plot(shifted_energies, w_interaction.wohp, label=w_interaction.tag)\n",
    "    print(f\"{w_interaction.tag} IWOHP = {w_interaction.iwohp:.2f}\")\n",
    "\n",
    "ax.axvline(x=0, color='black', ls='--', lw=1)\n",
    "\n",
    "ax.set_xlim(-25, 15)\n",
    "ax.set_ylim(-0.18, 0.18)\n",
    "\n",
    "ax.set_xlabel(r'$E - E_{\\mathrm{F}}$ / eV')\n",
    "ax.set_ylabel('WOHP')\n",
    "\n",
    "ax.legend(frameon=False)\n",
    "\n",
    "plt.show()"
   ]
  },
  {
   "cell_type": "code",
   "execution_count": 21,
   "id": "58f95db0-6157-44c5-8c72-4f34bdaeb8bc",
   "metadata": {},
   "outputs": [
    {
     "name": "stdout",
     "output_type": "stream",
     "text": [
      "0[0, 0, 1] <=> 1[0, 0, 0] IWOBI = 0.07\n",
      "0[0, 0, 1] <=> 3[0, 0, 0] IWOBI = 0.02\n",
      "0[0, 0, 1] <=> 4[0, 0, 0] IWOBI = 0.07\n",
      "0[0, 0, 1] <=> 7[0, 0, 0] IWOBI = 0.05\n"
     ]
    },
    {
     "data": {
      "image/png": "[encoded data removed]",
      "text/plain": [
       "<Figure size 640x480 with 1 Axes>"
      ]
     },
     "metadata": {},
     "output_type": "display_data"
    }
   ],
   "source": [
    "fig, ax = plt.subplots()\n",
    "\n",
    "for w_interaction in interactions[8, 9][0]:\n",
    "    ax.plot(shifted_energies, w_interaction.wobi, label=w_interaction.tag)\n",
    "    print(f\"{w_interaction.tag} IWOBI = {w_interaction.iwobi:.2f}\")\n",
    "\n",
    "ax.axvline(x=0, color='black', ls='--', lw=1)\n",
    "\n",
    "ax.set_xlim(-25, 15)\n",
    "ax.set_ylim(-0.014, 0.014)\n",
    "\n",
    "ax.set_xlabel(r'$E - E_{\\mathrm{F}}$ / eV')\n",
    "ax.set_ylabel('WOBI')\n",
    "\n",
    "ax.legend(frameon=False)\n",
    "\n",
    "plt.show()"
   ]
  },
  {
   "cell_type": "markdown",
   "id": "2cd06d2b-b5af-485b-894f-7e7bc087e01d",
   "metadata": {
    "editable": true,
    "slideshow": {
     "slide_type": ""
    },
    "tags": []
   },
   "source": [
    "Note that in both of the plots above, the WOHP/WOBI arising from the interaction between Wannier functions `0[0, 0, 1]` and `1[0, 0, 0]` (blue line) is not visible because it is overlapped almost exactly by the interaction between Wannier functions `0[0, 0, 1]` and `4[0, 0, 0]` (green line)."
   ]
  }
 ],
 "metadata": {
  "kernelspec": {
   "display_name": "Python 3 (ipykernel)",
   "language": "python",
   "name": "python3"
  },
  "language_info": {
   "codemirror_mode": {
    "name": "ipython",
    "version": 3
   },
   "file_extension": ".py",
   "mimetype": "text/x-python",
   "name": "python",
   "nbconvert_exporter": "python",
   "pygments_lexer": "ipython3",
   "version": "3.12.0"
  }
 },
 "nbformat": 4,
 "nbformat_minor": 5
}
